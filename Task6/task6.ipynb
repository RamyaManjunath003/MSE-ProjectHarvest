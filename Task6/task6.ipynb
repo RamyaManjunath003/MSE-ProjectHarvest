{
 "cells": [
  {
   "cell_type": "code",
   "execution_count": 320,
   "metadata": {},
   "outputs": [],
   "source": [
    "import pandas as pd"
   ]
  },
  {
   "cell_type": "code",
   "execution_count": 321,
   "metadata": {},
   "outputs": [
    {
     "data": {
      "text/html": [
       "<div>\n",
       "<style scoped>\n",
       "    .dataframe tbody tr th:only-of-type {\n",
       "        vertical-align: middle;\n",
       "    }\n",
       "\n",
       "    .dataframe tbody tr th {\n",
       "        vertical-align: top;\n",
       "    }\n",
       "\n",
       "    .dataframe thead th {\n",
       "        text-align: right;\n",
       "    }\n",
       "</style>\n",
       "<table border=\"1\" class=\"dataframe\">\n",
       "  <thead>\n",
       "    <tr style=\"text-align: right;\">\n",
       "      <th></th>\n",
       "      <th>car</th>\n",
       "      <th>energy_consumption</th>\n",
       "      <th>weight</th>\n",
       "      <th>speed</th>\n",
       "      <th>capacity</th>\n",
       "      <th>multiple_roles</th>\n",
       "      <th>durability</th>\n",
       "      <th>central_manager</th>\n",
       "    </tr>\n",
       "  </thead>\n",
       "  <tbody>\n",
       "    <tr>\n",
       "      <th>0</th>\n",
       "      <td>small_truck</td>\n",
       "      <td>less</td>\n",
       "      <td>light</td>\n",
       "      <td>fast</td>\n",
       "      <td>small</td>\n",
       "      <td>yes</td>\n",
       "      <td>long</td>\n",
       "      <td>yes</td>\n",
       "    </tr>\n",
       "    <tr>\n",
       "      <th>1</th>\n",
       "      <td>medium_truck</td>\n",
       "      <td>medium</td>\n",
       "      <td>medium</td>\n",
       "      <td>medium</td>\n",
       "      <td>big</td>\n",
       "      <td>no</td>\n",
       "      <td>long</td>\n",
       "      <td>no</td>\n",
       "    </tr>\n",
       "    <tr>\n",
       "      <th>2</th>\n",
       "      <td>large_truck</td>\n",
       "      <td>more</td>\n",
       "      <td>heavy</td>\n",
       "      <td>slow</td>\n",
       "      <td>big</td>\n",
       "      <td>yes</td>\n",
       "      <td>short</td>\n",
       "      <td>no</td>\n",
       "    </tr>\n",
       "    <tr>\n",
       "      <th>3</th>\n",
       "      <td>weed_truck</td>\n",
       "      <td>less</td>\n",
       "      <td>medium</td>\n",
       "      <td>fast</td>\n",
       "      <td>big</td>\n",
       "      <td>no</td>\n",
       "      <td>long</td>\n",
       "      <td>no</td>\n",
       "    </tr>\n",
       "  </tbody>\n",
       "</table>\n",
       "</div>"
      ],
      "text/plain": [
       "            car energy_consumption  weight   speed capacity multiple_roles  \\\n",
       "0   small_truck               less   light    fast    small            yes   \n",
       "1  medium_truck             medium  medium  medium      big             no   \n",
       "2   large_truck               more   heavy    slow      big            yes   \n",
       "3    weed_truck               less  medium    fast      big             no   \n",
       "\n",
       "  durability central_manager  \n",
       "0       long             yes  \n",
       "1       long              no  \n",
       "2      short              no  \n",
       "3       long              no  "
      ]
     },
     "execution_count": 321,
     "metadata": {},
     "output_type": "execute_result"
    }
   ],
   "source": [
    "df = pd.read_csv('CSVforTask6.csv', encoding = 'utf-8')\n",
    "df.head() # show all rows"
   ]
  },
  {
   "cell_type": "code",
   "execution_count": 322,
   "metadata": {},
   "outputs": [],
   "source": [
    "inputs = df.drop('central_manager', axis = 'columns') # drop the specific row\n",
    "target = df['central_manager'] # capture specific columns, not rows"
   ]
  },
  {
   "cell_type": "code",
   "execution_count": 323,
   "metadata": {},
   "outputs": [
    {
     "data": {
      "text/html": [
       "<div>\n",
       "<style scoped>\n",
       "    .dataframe tbody tr th:only-of-type {\n",
       "        vertical-align: middle;\n",
       "    }\n",
       "\n",
       "    .dataframe tbody tr th {\n",
       "        vertical-align: top;\n",
       "    }\n",
       "\n",
       "    .dataframe thead th {\n",
       "        text-align: right;\n",
       "    }\n",
       "</style>\n",
       "<table border=\"1\" class=\"dataframe\">\n",
       "  <thead>\n",
       "    <tr style=\"text-align: right;\">\n",
       "      <th></th>\n",
       "      <th>car</th>\n",
       "      <th>energy_consumption</th>\n",
       "      <th>weight</th>\n",
       "      <th>speed</th>\n",
       "      <th>capacity</th>\n",
       "      <th>multiple_roles</th>\n",
       "      <th>durability</th>\n",
       "    </tr>\n",
       "  </thead>\n",
       "  <tbody>\n",
       "    <tr>\n",
       "      <th>0</th>\n",
       "      <td>small_truck</td>\n",
       "      <td>less</td>\n",
       "      <td>light</td>\n",
       "      <td>fast</td>\n",
       "      <td>small</td>\n",
       "      <td>yes</td>\n",
       "      <td>long</td>\n",
       "    </tr>\n",
       "    <tr>\n",
       "      <th>1</th>\n",
       "      <td>medium_truck</td>\n",
       "      <td>medium</td>\n",
       "      <td>medium</td>\n",
       "      <td>medium</td>\n",
       "      <td>big</td>\n",
       "      <td>no</td>\n",
       "      <td>long</td>\n",
       "    </tr>\n",
       "    <tr>\n",
       "      <th>2</th>\n",
       "      <td>large_truck</td>\n",
       "      <td>more</td>\n",
       "      <td>heavy</td>\n",
       "      <td>slow</td>\n",
       "      <td>big</td>\n",
       "      <td>yes</td>\n",
       "      <td>short</td>\n",
       "    </tr>\n",
       "    <tr>\n",
       "      <th>3</th>\n",
       "      <td>weed_truck</td>\n",
       "      <td>less</td>\n",
       "      <td>medium</td>\n",
       "      <td>fast</td>\n",
       "      <td>big</td>\n",
       "      <td>no</td>\n",
       "      <td>long</td>\n",
       "    </tr>\n",
       "  </tbody>\n",
       "</table>\n",
       "</div>"
      ],
      "text/plain": [
       "            car energy_consumption  weight   speed capacity multiple_roles  \\\n",
       "0   small_truck               less   light    fast    small            yes   \n",
       "1  medium_truck             medium  medium  medium      big             no   \n",
       "2   large_truck               more   heavy    slow      big            yes   \n",
       "3    weed_truck               less  medium    fast      big             no   \n",
       "\n",
       "  durability  \n",
       "0       long  \n",
       "1       long  \n",
       "2      short  \n",
       "3       long  "
      ]
     },
     "execution_count": 323,
     "metadata": {},
     "output_type": "execute_result"
    }
   ],
   "source": [
    "inputs"
   ]
  },
  {
   "cell_type": "code",
   "execution_count": 324,
   "metadata": {},
   "outputs": [
    {
     "data": {
      "text/plain": [
       "0    yes\n",
       "1     no\n",
       "2     no\n",
       "3     no\n",
       "Name: central_manager, dtype: object"
      ]
     },
     "execution_count": 324,
     "metadata": {},
     "output_type": "execute_result"
    }
   ],
   "source": [
    "target"
   ]
  },
  {
   "cell_type": "code",
   "execution_count": 325,
   "metadata": {},
   "outputs": [],
   "source": [
    "from sklearn.preprocessing import LabelEncoder"
   ]
  },
  {
   "cell_type": "code",
   "execution_count": null,
   "metadata": {},
   "outputs": [],
   "source": [
    "inputs['car_n'] = LabelEncoder().fit_transform(inputs['car'])\n",
    "inputs['energy_consumption_n'] = LabelEncoder().fit_transform(inputs['energy_consumption'])\n",
    "inputs['weight_n'] = LabelEncoder().fit_transform(inputs['weight'])\n",
    "inputs['speed_n'] = LabelEncoder().fit_transform(inputs['speed'])\n",
    "inputs['capacity_n'] = LabelEncoder().fit_transform(inputs['capacity'])\n",
    "inputs['multiple_roles_n'] = LabelEncoder().fit_transform(inputs['multiple_roles'])\n",
    "inputs['durability_n'] = LabelEncoder().fit_transform(inputs['durability'])\n",
    "inputs.head() # show all rows"
   ]
  },
  {
   "cell_type": "code",
   "execution_count": 327,
   "metadata": {},
   "outputs": [],
   "source": [
    "# le_car = LabelEncoder()\n",
    "# le_energy_consumption = LabelEncoder() \n",
    "# le_weight = LabelEncoder()\n",
    "# le_speed = LabelEncoder()\n",
    "# le_capacity = LabelEncoder()\n",
    "# le_multiple_roles = LabelEncoder()\n",
    "# le_durability = LabelEncoder()"
   ]
  },
  {
   "cell_type": "code",
   "execution_count": 328,
   "metadata": {},
   "outputs": [],
   "source": [
    "# inputs['car_n'] = le_car.fit_transform(inputs['car'])\n",
    "# inputs['energy_consumption_n'] = le_energy_consumption.fit_transform(inputs['energy_consumption'])\n",
    "# inputs['weight_n'] = le_weight.fit_transform(inputs['weight'])\n",
    "# inputs['speed_n'] = le_speed.fit_transform(inputs['speed'])\n",
    "# inputs['capacity_n'] = le_capacity.fit_transform(inputs['capacity'])\n",
    "# inputs['multiple_roles_n'] = le_multiple_roles.fit_transform(inputs['multiple_roles'])\n",
    "# inputs['durability_n'] = le_durability.fit_transform(inputs['durability'])\n",
    "# inputs.head() # show all rows"
   ]
  },
  {
   "cell_type": "code",
   "execution_count": 329,
   "metadata": {},
   "outputs": [
    {
     "data": {
      "text/html": [
       "<div>\n",
       "<style scoped>\n",
       "    .dataframe tbody tr th:only-of-type {\n",
       "        vertical-align: middle;\n",
       "    }\n",
       "\n",
       "    .dataframe tbody tr th {\n",
       "        vertical-align: top;\n",
       "    }\n",
       "\n",
       "    .dataframe thead th {\n",
       "        text-align: right;\n",
       "    }\n",
       "</style>\n",
       "<table border=\"1\" class=\"dataframe\">\n",
       "  <thead>\n",
       "    <tr style=\"text-align: right;\">\n",
       "      <th></th>\n",
       "      <th>car_n</th>\n",
       "      <th>energy_consumption_n</th>\n",
       "      <th>weight_n</th>\n",
       "      <th>speed_n</th>\n",
       "      <th>capacity_n</th>\n",
       "      <th>multiple_roles_n</th>\n",
       "      <th>durability_n</th>\n",
       "    </tr>\n",
       "  </thead>\n",
       "  <tbody>\n",
       "    <tr>\n",
       "      <th>0</th>\n",
       "      <td>2</td>\n",
       "      <td>0</td>\n",
       "      <td>1</td>\n",
       "      <td>0</td>\n",
       "      <td>1</td>\n",
       "      <td>1</td>\n",
       "      <td>0</td>\n",
       "    </tr>\n",
       "    <tr>\n",
       "      <th>1</th>\n",
       "      <td>1</td>\n",
       "      <td>1</td>\n",
       "      <td>2</td>\n",
       "      <td>1</td>\n",
       "      <td>0</td>\n",
       "      <td>0</td>\n",
       "      <td>0</td>\n",
       "    </tr>\n",
       "    <tr>\n",
       "      <th>2</th>\n",
       "      <td>0</td>\n",
       "      <td>2</td>\n",
       "      <td>0</td>\n",
       "      <td>2</td>\n",
       "      <td>0</td>\n",
       "      <td>1</td>\n",
       "      <td>1</td>\n",
       "    </tr>\n",
       "    <tr>\n",
       "      <th>3</th>\n",
       "      <td>3</td>\n",
       "      <td>0</td>\n",
       "      <td>2</td>\n",
       "      <td>0</td>\n",
       "      <td>0</td>\n",
       "      <td>0</td>\n",
       "      <td>0</td>\n",
       "    </tr>\n",
       "  </tbody>\n",
       "</table>\n",
       "</div>"
      ],
      "text/plain": [
       "   car_n  energy_consumption_n  weight_n  speed_n  capacity_n  \\\n",
       "0      2                     0         1        0           1   \n",
       "1      1                     1         2        1           0   \n",
       "2      0                     2         0        2           0   \n",
       "3      3                     0         2        0           0   \n",
       "\n",
       "   multiple_roles_n  durability_n  \n",
       "0                 1             0  \n",
       "1                 0             0  \n",
       "2                 1             1  \n",
       "3                 0             0  "
      ]
     },
     "execution_count": 329,
     "metadata": {},
     "output_type": "execute_result"
    }
   ],
   "source": [
    "# drop columns with string\n",
    "inputs_n = inputs.drop(['car', 'energy_consumption', 'weight', 'speed', 'capacity', 'multiple_roles', 'durability'], axis = 'columns')\n",
    "# show inputs_n table\n",
    "inputs_n"
   ]
  },
  {
   "cell_type": "code",
   "execution_count": 330,
   "metadata": {},
   "outputs": [],
   "source": [
    "from sklearn import tree   "
   ]
  },
  {
   "cell_type": "code",
   "execution_count": 331,
   "metadata": {},
   "outputs": [],
   "source": [
    "model = tree.DecisionTreeClassifier()\n",
    "# criterion: gini index (default)\n",
    "# max_depth: none (default)\n",
    "# splitter: best (default)\n"
   ]
  },
  {
   "cell_type": "code",
   "execution_count": null,
   "metadata": {},
   "outputs": [],
   "source": [
    "# build a decision tree classifier from the t raining set\n",
    "model.fit(inputs_n.values, target) # .values -> without headers, only values\n"
   ]
  },
  {
   "cell_type": "code",
   "execution_count": null,
   "metadata": {},
   "outputs": [],
   "source": [
    "# return the mean accuracy on the given test data and labels\n",
    "model.score(inputs_n.values, target) # I use the same training data, so the score is 1, usually is less than 1``"
   ]
  },
  {
   "cell_type": "code",
   "execution_count": 334,
   "metadata": {},
   "outputs": [],
   "source": [
    "# car:          (0)heavy    (1)medium   (2)small    (3)weed\n",
    "# enrgy_cnsmptn:(0)less     (1)medium   (2)more\n",
    "# weight:       (0)heavy    (1)light    (2)medium\n",
    "# speed:        (0)fast     (1)medium   (2)slow\n",
    "# capacity:     (0)big      (1)small   \n",
    "# multi_roles:  (0)no       (1)yes      \n",
    "# durability:   (0)long     (1)short    "
   ]
  },
  {
   "cell_type": "code",
   "execution_count": 341,
   "metadata": {},
   "outputs": [],
   "source": [
    "# predict vehicle attributes\n",
    "# model.predict([[, , , , , , ]])"
   ]
  },
  {
   "cell_type": "code",
   "execution_count": 342,
   "metadata": {},
   "outputs": [
    {
     "data": {
      "text/plain": [
       "array(['no'], dtype=object)"
      ]
     },
     "execution_count": 342,
     "metadata": {},
     "output_type": "execute_result"
    }
   ],
   "source": [
    "# small truck, less energy comsumption, light weight, fast speed, big capacity, multi roles and long durability\n",
    "model.predict([[2, 0, 1, 0, 0, 1, 0]])"
   ]
  },
  {
   "cell_type": "code",
   "execution_count": 343,
   "metadata": {},
   "outputs": [
    {
     "data": {
      "text/plain": [
       "array(['yes'], dtype=object)"
      ]
     },
     "execution_count": 343,
     "metadata": {},
     "output_type": "execute_result"
    }
   ],
   "source": [
    "# small truck, less energy consumption, heavy weight, fast speed, small capacity, multi roles, long durability\n",
    "model.predict([[2, 0, 1, 0, 1, 1, 0]])"
   ]
  },
  {
   "cell_type": "code",
   "execution_count": 337,
   "metadata": {},
   "outputs": [
    {
     "data": {
      "text/plain": [
       "array(['no'], dtype=object)"
      ]
     },
     "execution_count": 337,
     "metadata": {},
     "output_type": "execute_result"
    }
   ],
   "source": [
    "# weed car, medium energy consumption, heavy weight, medium speed, big capacity, multi roles, long durability\n",
    "model.predict([[3, 2, 0, 2, 0, 1, 0]])"
   ]
  }
 ],
 "metadata": {
  "kernelspec": {
   "display_name": "Python 3 (ipykernel)",
   "language": "python",
   "name": "python3"
  },
  "language_info": {
   "codemirror_mode": {
    "name": "ipython",
    "version": 3
   },
   "file_extension": ".py",
   "mimetype": "text/x-python",
   "name": "python",
   "nbconvert_exporter": "python",
   "pygments_lexer": "ipython3",
   "version": "3.10.0"
  },
  "vscode": {
   "interpreter": {
    "hash": "526d572556b7bd89be421e1b41be29763c589ee55bed5bde594ff435f44e432c"
   }
  }
 },
 "nbformat": 4,
 "nbformat_minor": 2
}
