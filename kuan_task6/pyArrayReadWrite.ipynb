{
 "cells": [
  {
   "cell_type": "raw",
   "id": "4f035174-5201-44d6-9a42-32d681dacc45",
   "metadata": {},
   "source": [
    "Create an array in python via the numpy lib\n",
    "first import the numpy lib\n",
    "jlhlj\n",
    "ökjöklj"
   ]
  },
  {
   "cell_type": "code",
   "execution_count": 1,
   "id": "aaa99045-e368-47a4-9c60-d2dff9dbf5c1",
   "metadata": {
    "tags": []
   },
   "outputs": [],
   "source": [
    "import numpy as np\n",
    "import os"
   ]
  },
  {
   "cell_type": "raw",
   "id": "acfe8188-35e7-467c-ae01-12e8b54abaef",
   "metadata": {},
   "source": [
    "create a thread in pyhton. \n",
    "First import some relevant libs. "
   ]
  },
  {
   "cell_type": "code",
   "execution_count": 2,
   "id": "9925d9e7-6fcb-49d9-ae21-e0984804d489",
   "metadata": {},
   "outputs": [],
   "source": [
    "from time import sleep, perf_counter\n",
    "from threading import Thread\n",
    "from threading import Lock"
   ]
  },
  {
   "cell_type": "raw",
   "id": "ca34d0b8-2623-4df6-861a-56b071962858",
   "metadata": {},
   "source": [
    "create via np.array an array of specific size and specific type (hear: np.int32 - integer)"
   ]
  },
  {
   "cell_type": "code",
   "execution_count": 3,
   "id": "b410325a-497c-47c9-b789-4520d5d3d2f1",
   "metadata": {},
   "outputs": [],
   "source": [
    "x = np.array([[9, 2, 3], [4, 5, 6]], np.int32)"
   ]
  },
  {
   "cell_type": "code",
   "execution_count": 4,
   "id": "e95a0fec-2094-4d7d-b378-1f451b976e13",
   "metadata": {},
   "outputs": [
    {
     "name": "stdout",
     "output_type": "stream",
     "text": [
      "6\n"
     ]
    }
   ],
   "source": [
    "print(x[1, 2])"
   ]
  },
  {
   "cell_type": "code",
   "execution_count": 5,
   "id": "ff559375-7afb-4437-ad88-989b8ef39d7d",
   "metadata": {},
   "outputs": [],
   "source": [
    "np.savetxt(\"test.txt\", x)"
   ]
  },
  {
   "cell_type": "code",
   "execution_count": 6,
   "id": "0861005a-e012-4379-b502-58c8d3cbda1f",
   "metadata": {},
   "outputs": [],
   "source": [
    "y = np.loadtxt(\"test.txt\")"
   ]
  },
  {
   "cell_type": "code",
   "execution_count": 7,
   "id": "61e441cc-fd58-4362-9431-2377bceefc60",
   "metadata": {},
   "outputs": [
    {
     "name": "stdout",
     "output_type": "stream",
     "text": [
      "[[9. 2. 3.]\n",
      " [4. 5. 6.]]\n"
     ]
    }
   ],
   "source": [
    "print(y)"
   ]
  },
  {
   "cell_type": "code",
   "execution_count": 8,
   "id": "8845da87-c5bf-4929-8757-36f92be8d3a9",
   "metadata": {},
   "outputs": [
    {
     "name": "stdout",
     "output_type": "stream",
     "text": [
      "9.0\n"
     ]
    }
   ],
   "source": [
    "print(y[0][0])"
   ]
  },
  {
   "cell_type": "code",
   "execution_count": 9,
   "id": "9daead3e-1e14-4cd7-b87f-cdb098563de4",
   "metadata": {},
   "outputs": [
    {
     "name": "stdout",
     "output_type": "stream",
     "text": [
      "found nothing\n"
     ]
    }
   ],
   "source": [
    "if(y[0][0] == 1):\n",
    "    print(\"found something\")\n",
    "else:\n",
    "    print(\"found nothing\")"
   ]
  },
  {
   "cell_type": "code",
   "execution_count": 10,
   "id": "8932e4a1-3b13-460d-8d08-0730cf8ba134",
   "metadata": {},
   "outputs": [],
   "source": [
    "z = np.random.randint(0, 1, size=(6,14))"
   ]
  },
  {
   "cell_type": "code",
   "execution_count": 11,
   "id": "19626c6b-47cd-4604-8ed3-8a39cdaec3ed",
   "metadata": {},
   "outputs": [
    {
     "name": "stdout",
     "output_type": "stream",
     "text": [
      "[[0 0 0 0 0 0 0 0 0 0 0 0 0 0]\n",
      " [0 0 0 0 0 0 0 0 0 0 0 0 0 0]\n",
      " [0 0 0 0 0 0 0 0 0 0 0 0 0 0]\n",
      " [0 0 0 0 0 0 0 0 0 0 0 0 0 0]\n",
      " [0 0 0 0 0 0 0 0 0 0 0 0 0 0]\n",
      " [0 0 0 0 0 0 0 0 0 0 0 0 0 0]]\n"
     ]
    }
   ],
   "source": [
    "print(z)"
   ]
  },
  {
   "cell_type": "code",
   "execution_count": 12,
   "id": "ef30d4f3-5108-4a68-a0af-3fd891b32ded",
   "metadata": {},
   "outputs": [],
   "source": [
    "runner = 0\n",
    "for y, x in np.ndindex(z.shape):\n",
    "    runner +=1\n",
    "    if runner % 2:\n",
    "        z[y][x] = 1\n",
    "    elif runner % 4:\n",
    "        z[y][x] = 2\n"
   ]
  },
  {
   "cell_type": "code",
   "execution_count": 13,
   "id": "a1aa1f3c-4940-4915-aa12-f43ef921c47b",
   "metadata": {},
   "outputs": [
    {
     "name": "stdout",
     "output_type": "stream",
     "text": [
      "[[1 2 1 0 1 2 1 0 1 2 1 0 1 2]\n",
      " [1 0 1 2 1 0 1 2 1 0 1 2 1 0]\n",
      " [1 2 1 0 1 2 1 0 1 2 1 0 1 2]\n",
      " [1 0 1 2 1 0 1 2 1 0 1 2 1 0]\n",
      " [1 2 1 0 1 2 1 0 1 2 1 0 1 2]\n",
      " [1 0 1 2 1 0 1 2 1 0 1 2 1 0]]\n"
     ]
    }
   ],
   "source": [
    "print(z)"
   ]
  },
  {
   "cell_type": "code",
   "execution_count": 14,
   "id": "73814c53-b56e-4693-b20c-0bcfe2911bb9",
   "metadata": {
    "tags": []
   },
   "outputs": [
    {
     "name": "stdout",
     "output_type": "stream",
     "text": [
      "/Users/shenkler/sciebo/work/Nebentätigkeit/ESM/teaching/22/MSE\n",
      "/Users/shenkler/sciebo/work/Nebentätigkeit/ESM/teaching/22/MSE/python/myArena.txt\n"
     ]
    }
   ],
   "source": [
    "dirname = os.path.dirname(os.getcwd())\n",
    "print(dirname)\n",
    "filename = os.path.join(dirname, \"python/myArena.txt\")\n",
    "print(filename)\n",
    "np.savetxt(filename, z)\n",
    "    "
   ]
  },
  {
   "cell_type": "code",
   "execution_count": 15,
   "id": "6d6d2bbf-9ec8-4f95-b970-7cb6795fd5d4",
   "metadata": {},
   "outputs": [],
   "source": [
    "loadedArena = np.loadtxt(filename)"
   ]
  },
  {
   "cell_type": "code",
   "execution_count": 16,
   "id": "b4107356-d196-4dc5-abe1-fdec9e2b5c44",
   "metadata": {},
   "outputs": [
    {
     "name": "stdout",
     "output_type": "stream",
     "text": [
      "[[1. 2. 1. 0. 1. 2. 1. 0. 1. 2. 1. 0. 1. 2.]\n",
      " [1. 0. 1. 2. 1. 0. 1. 2. 1. 0. 1. 2. 1. 0.]\n",
      " [1. 2. 1. 0. 1. 2. 1. 0. 1. 2. 1. 0. 1. 2.]\n",
      " [1. 0. 1. 2. 1. 0. 1. 2. 1. 0. 1. 2. 1. 0.]\n",
      " [1. 2. 1. 0. 1. 2. 1. 0. 1. 2. 1. 0. 1. 2.]\n",
      " [1. 0. 1. 2. 1. 0. 1. 2. 1. 0. 1. 2. 1. 0.]]\n"
     ]
    }
   ],
   "source": [
    "print(loadedArena)"
   ]
  },
  {
   "cell_type": "code",
   "execution_count": 17,
   "id": "48581b41-11f6-4fe7-9d6b-123c98c5cb11",
   "metadata": {},
   "outputs": [],
   "source": [
    "def task(id):\n",
    "    print('Starting a task...')\n",
    "    print(id)\n",
    "    if id==1:\n",
    "        sleep(5)\n",
    "    elif id==2:\n",
    "        sleep(1)\n",
    "    print(f'done {id}')"
   ]
  },
  {
   "cell_type": "code",
   "execution_count": 18,
   "id": "e0911687-db96-4f00-ad3d-bfe34a919a54",
   "metadata": {},
   "outputs": [],
   "source": [
    "def task2(lock, id):\n",
    "    with lock:\n",
    "        print('Starting a task...')\n",
    "        print(id)\n",
    "        if id==1:\n",
    "            sleep(5)\n",
    "        elif id==2:\n",
    "            sleep(1)\n",
    "        print(f'done {id}')"
   ]
  },
  {
   "cell_type": "code",
   "execution_count": 19,
   "id": "f2b60424-1838-4c39-ab67-4f35c73f1739",
   "metadata": {},
   "outputs": [],
   "source": [
    "start_time = perf_counter()"
   ]
  },
  {
   "cell_type": "code",
   "execution_count": 20,
   "id": "fcd01e5f-83ad-48ed-a2af-1097985d770b",
   "metadata": {},
   "outputs": [],
   "source": [
    "t1 = Thread(target=task,args=(1,))\n",
    "t2 = Thread(target=task, args=(2,))"
   ]
  },
  {
   "cell_type": "raw",
   "id": "b6079d9c-80a7-4ddc-a5c2-dc01868bda2a",
   "metadata": {},
   "source": [
    "start the tasks"
   ]
  },
  {
   "cell_type": "code",
   "execution_count": 21,
   "id": "9dd3ec70-0425-49c4-8631-01267e9369c7",
   "metadata": {},
   "outputs": [
    {
     "name": "stdout",
     "output_type": "stream",
     "text": [
      "Starting a task...Starting a task...\n",
      "1\n",
      "\n",
      "2\n",
      "done 2\n",
      "done 1\n"
     ]
    }
   ],
   "source": [
    "t1.start()\n",
    "t2.start()"
   ]
  },
  {
   "cell_type": "raw",
   "id": "da6053f7-963b-402b-b257-35a8b67715b8",
   "metadata": {},
   "source": [
    "wait for the threads to complete"
   ]
  },
  {
   "cell_type": "code",
   "execution_count": 22,
   "id": "03bf40c7-d154-4fd0-99db-aa9bb3dd59bf",
   "metadata": {},
   "outputs": [],
   "source": [
    "t1.join()\n",
    "t2.join()"
   ]
  },
  {
   "cell_type": "code",
   "execution_count": 23,
   "id": "fa025934-ecb2-4a35-bae3-37fb5a68acea",
   "metadata": {},
   "outputs": [],
   "source": [
    "end_time = perf_counter()"
   ]
  },
  {
   "cell_type": "code",
   "execution_count": 24,
   "id": "72f3daed-9985-4b5a-9965-1f7e2475c8a5",
   "metadata": {},
   "outputs": [
    {
     "name": "stdout",
     "output_type": "stream",
     "text": [
      "It took  77.63 second(s) to complete.\n"
     ]
    }
   ],
   "source": [
    "print(f'It took {end_time- start_time: 0.2f} second(s) to complete.')"
   ]
  },
  {
   "cell_type": "code",
   "execution_count": 25,
   "id": "0f9e5a57-4117-43ab-9252-799637753bf9",
   "metadata": {},
   "outputs": [
    {
     "name": "stdout",
     "output_type": "stream",
     "text": [
      "Starting a task...\n",
      "1\n",
      "done 1\n",
      "Starting a task...\n",
      "2\n",
      "done 2\n"
     ]
    }
   ],
   "source": [
    "lock = Lock()\n",
    "t1 = Thread(target=task2,args=(lock,1,))\n",
    "t2 = Thread(target=task2, args=(lock,2,))\n",
    "t1.start()\n",
    "t2.start()\n",
    "t1.join()\n",
    "t2.join()"
   ]
  },
  {
   "cell_type": "code",
   "execution_count": null,
   "id": "6dedcf61-b757-4620-8e12-8f6c37db887f",
   "metadata": {},
   "outputs": [],
   "source": []
  }
 ],
 "metadata": {
  "kernelspec": {
   "display_name": "Python 3 (ipykernel)",
   "language": "python",
   "name": "python3"
  },
  "language_info": {
   "codemirror_mode": {
    "name": "ipython",
    "version": 3
   },
   "file_extension": ".py",
   "mimetype": "text/x-python",
   "name": "python",
   "nbconvert_exporter": "python",
   "pygments_lexer": "ipython3",
   "version": "3.9.12"
  }
 },
 "nbformat": 4,
 "nbformat_minor": 5
}
