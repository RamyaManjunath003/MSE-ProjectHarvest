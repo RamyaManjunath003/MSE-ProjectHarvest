{
 "cells": [
  {
   "cell_type": "code",
   "execution_count": 295,
   "metadata": {},
   "outputs": [],
   "source": [
    "import numpy as np\n",
    "import random\n",
    "import time\n",
    "import threading"
   ]
  },
  {
   "cell_type": "code",
   "execution_count": null,
   "metadata": {},
   "outputs": [],
   "source": [
    "for x in range(10):\n",
    "    print(random.randint(0, 9))"
   ]
  },
  {
   "cell_type": "code",
   "execution_count": 2,
   "metadata": {},
   "outputs": [
    {
     "name": "stdout",
     "output_type": "stream",
     "text": [
      "starting: Thread1\n",
      "\n",
      "starting: Thread1\n",
      "\n",
      "Thread1: Thu Jun 30 09:44:48 2022 5\n",
      "Thread1: Thu Jun 30 09:44:48 2022 5\n",
      "\n",
      "\n",
      "Thread1: Thu Jun 30 09:44:49 2022 4\n",
      "Thread1: Thu Jun 30 09:44:49 2022 4\n",
      "\n",
      "\n",
      "Thread1: Thu Jun 30 09:44:50 2022 3\n",
      "Thread1: Thu Jun 30 09:44:50 2022 3\n",
      "\n",
      "\n",
      "Thread1: Thu Jun 30 09:44:51 2022 2\n",
      "Thread1: Thu Jun 30 09:44:51 2022 2\n",
      "\n",
      "\n",
      "Thread1: Thu Jun 30 09:44:52 2022 1\n",
      "Thread1: Thu Jun 30 09:44:52 2022 1\n",
      "\n",
      "Exiting: Thread1\n",
      "\n",
      "\n",
      "Exiting: Thread1\n",
      "\n",
      "Done main thread\n"
     ]
    }
   ],
   "source": [
    "import threading \n",
    "import time\n",
    "\n",
    "class myThread(threading.Thread):\n",
    "    def __init__(self, threadId, name, count):\n",
    "        threading.Thread.__init__(self)\n",
    "        self.threadId = threadId\n",
    "        self.name = name\n",
    "        self.count = count\n",
    "        \n",
    "    def run(self):\n",
    "        print('starting: ' + self.name + '\\n')\n",
    "\n",
    "        print_time(self.name, 1, self.count)\n",
    "\n",
    "        print('Exiting: ' + self.name + '\\n')\n",
    "\n",
    "def print_time(name, delay, count):\n",
    "    while count:\n",
    "        time.sleep(delay)\n",
    "        print('%s: %s %s' % (name, time.ctime(time.time()), count) + '\\n')\n",
    "        count -= 1\n",
    "\n",
    "thread1 = myThread(1, 'Thread1', 5)\n",
    "thread2 = myThread(1, 'Thread2', 5)\n",
    "\n",
    "thread1.start()\n",
    "thread2.start()\n",
    "thread1.join()\n",
    "thread2.join()\n",
    "print('Done main thread')"
   ]
  },
  {
   "cell_type": "code",
   "execution_count": 275,
   "metadata": {},
   "outputs": [],
   "source": [
    "# open file\n",
    "with open('field.txt', 'r') as file:\n",
    "   data = file.read() # str object"
   ]
  },
  {
   "cell_type": "code",
   "execution_count": 276,
   "metadata": {},
   "outputs": [],
   "source": [
    "# no space or new line\n",
    "data = data.replace(\"\\r\", \" \").replace(\"\\n\", \" \")\n",
    "data = data.replace(\"\\r\", \"\").replace(\" \", \"\")"
   ]
  },
  {
   "cell_type": "code",
   "execution_count": 277,
   "metadata": {},
   "outputs": [],
   "source": [
    "# create a empty 2d array\n",
    "kuan = [[0] * 14 for i in range(6)] "
   ]
  },
  {
   "cell_type": "code",
   "execution_count": null,
   "metadata": {},
   "outputs": [],
   "source": [
    "# assign value\n",
    "count = 0\n",
    "for i in range(0, 6):\n",
    "       for j in range(0, 14):\n",
    "              kuan[i][j] = int(data[count])\n",
    "              count += 1\n",
    "# it's messy, hard to take a look\n",
    "print(kuan)  "
   ]
  },
  {
   "cell_type": "code",
   "execution_count": 279,
   "metadata": {},
   "outputs": [],
   "source": [
    "'''function'''\n",
    "# print out the matrix\n",
    "def print_matrix(kuan):\n",
    "    for i in range(0, 6):\n",
    "        for j in range(0, 14):\n",
    "            print(kuan[i][j], end = ' ')\n",
    "        print(\"\\n\")"
   ]
  },
  {
   "cell_type": "code",
   "execution_count": 280,
   "metadata": {},
   "outputs": [],
   "source": [
    "# algo do calculate the distance"
   ]
  },
  {
   "cell_type": "code",
   "execution_count": 281,
   "metadata": {},
   "outputs": [],
   "source": [
    "# algo for roles transition"
   ]
  },
  {
   "cell_type": "code",
   "execution_count": 282,
   "metadata": {},
   "outputs": [],
   "source": [
    "# small to mid -> 1 bale\n",
    "# small to big -> not allowed\n",
    "# mid to big -> not allowed\n",
    "# big to mid -> 1 bale\n",
    "# big to small -> 2 bales"
   ]
  },
  {
   "cell_type": "code",
   "execution_count": 283,
   "metadata": {},
   "outputs": [],
   "source": [
    "# small -> 3 small bales, 1 mid bale\n",
    "# mid -> 2 mid bales\n",
    "# big -> 1 big bale, 1 mid bale, 2 small bales\n",
    "# weed -> 1 weed bale"
   ]
  },
  {
   "cell_type": "code",
   "execution_count": 284,
   "metadata": {},
   "outputs": [],
   "source": [
    "# create 4 threads, each thread represent a car\n",
    "# create 1 thread, for new bales or new obstacles"
   ]
  },
  {
   "cell_type": "code",
   "execution_count": null,
   "metadata": {},
   "outputs": [],
   "source": [
    "import time\n",
    "import threading\n",
    "\n",
    "start = time.perf_counter()\n",
    "\n",
    "def do_something(seconds):\n",
    "    print(f'Slepping {seconds} second(s)...')\n",
    "    time.sleep(seconds) \n",
    "    print('Done Slepping...')\n",
    "\n",
    "threads = []\n",
    "\n",
    "for _ in range (10):\n",
    "    t = threading.Thread(target = do_something, args=[1.5])\n",
    "    # t = threading.Thread(target = do_something(1.5))\n",
    "    t.start() \n",
    "    # t.join()\n",
    "    threads.append(t)\n",
    "\n",
    "for thread in threads:\n",
    "    print('thread = ', thread)\n",
    "    thread.join()\n",
    "\n",
    "finish = time.perf_counter()\n",
    "\n",
    "print(f'Finish in {round (finish-start, 2)} second(s)')"
   ]
  },
  {
   "cell_type": "code",
   "execution_count": 305,
   "metadata": {},
   "outputs": [
    {
     "name": "stdout",
     "output_type": "stream",
     "text": [
      "Slepping 1 second(s)...\n",
      "Done Slepping...\n",
      "Finish in 1.01 second(s)\n"
     ]
    }
   ],
   "source": [
    "import time\n",
    "import concurrent.futures\n",
    "\n",
    "start = time.perf_counter()\n",
    "\n",
    "def do_something(seconds):\n",
    "    print(f'Slepping {seconds} second(s)...')\n",
    "    time.sleep(seconds) \n",
    "    return 'Done Slepping...'\n",
    "\n",
    "with concurrent.futures.ThreadPoolExecutor() as executor:\n",
    "    f1 = executor.submit(do_something, 1)\n",
    "    f2 = executor.submit(do_something, 1)\n",
    "    \n",
    "    print(f1.result())\n",
    "    print(f2.result())\n",
    "\n",
    "# threads = []\n",
    "\n",
    "# for _ in range (10):\n",
    "#     t = threading.Thread(target = do_something, args=[1.5])\n",
    "#     # t = threading.Thread(target = do_something(1.5))\n",
    "#     t.start() \n",
    "#     # t.join()\n",
    "#     threads.append(t)\n",
    "\n",
    "# for thread in threads:\n",
    "#     print('thread = ', thread)\n",
    "#     thread.join()\n",
    "\n",
    "finish = time.perf_counter()\n",
    "\n",
    "print(f'Finish in {round (finish-start, 2)} second(s)')"
   ]
  },
  {
   "cell_type": "code",
   "execution_count": 289,
   "metadata": {},
   "outputs": [],
   "source": [
    "# store the drive path\n",
    "sc_path = []\n",
    "mc_path = []\n",
    "lc_path = []\n",
    "wc_path = []\n"
   ]
  },
  {
   "cell_type": "code",
   "execution_count": null,
   "metadata": {},
   "outputs": [],
   "source": [
    "# generate 4 random locations for vehicles"
   ]
  },
  {
   "cell_type": "code",
   "execution_count": null,
   "metadata": {},
   "outputs": [],
   "source": [
    "# generate 4 random locations for collection center\n",
    "# random.randint(0, 6)\n",
    "# random.randint(0, 14)"
   ]
  },
  {
   "cell_type": "code",
   "execution_count": null,
   "metadata": {},
   "outputs": [],
   "source": [
    "#if __name__ == \"__main__\":"
   ]
  },
  {
   "cell_type": "code",
   "execution_count": null,
   "metadata": {},
   "outputs": [],
   "source": [
    "print_matrix(kuan)"
   ]
  }
 ],
 "metadata": {
  "kernelspec": {
   "display_name": "Python 3.10.0 64-bit",
   "language": "python",
   "name": "python3"
  },
  "language_info": {
   "codemirror_mode": {
    "name": "ipython",
    "version": 3
   },
   "file_extension": ".py",
   "mimetype": "text/x-python",
   "name": "python",
   "nbconvert_exporter": "python",
   "pygments_lexer": "ipython3",
   "version": "3.10.0"
  },
  "orig_nbformat": 4,
  "vscode": {
   "interpreter": {
    "hash": "526d572556b7bd89be421e1b41be29763c589ee55bed5bde594ff435f44e432c"
   }
  }
 },
 "nbformat": 4,
 "nbformat_minor": 2
}
